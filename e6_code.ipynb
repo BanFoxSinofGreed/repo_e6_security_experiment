{
  "nbformat": 4,
  "nbformat_minor": 0,
  "metadata": {
    "colab": {
      "provenance": []
    },
    "kernelspec": {
      "name": "python3",
      "display_name": "Python 3"
    },
    "language_info": {
      "name": "python"
    }
  },
  "cells": [
    {
      "cell_type": "markdown",
      "source": [
        "#Preparation"
      ],
      "metadata": {
        "id": "OnaQHcOI8U12"
      }
    },
    {
      "cell_type": "code",
      "execution_count": 1,
      "metadata": {
        "id": "aTI2Wnf-7NTx"
      },
      "outputs": [],
      "source": [
        "from google.colab import files\n",
        "import pandas as pd\n",
        "import seaborn as sns\n",
        "import matplotlib.pyplot as plt\n",
        "import scipy.stats as stats\n",
        "import numpy as np\n",
        "from matplotlib.patches import Rectangle\n",
        "import io\n",
        "import copy"
      ]
    },
    {
      "cell_type": "code",
      "source": [
        "raw_data_file = files.upload() # upload the raw data from experiment 6"
      ],
      "metadata": {
        "colab": {
          "base_uri": "https://localhost:8080/",
          "height": 73
        },
        "id": "v8JjU98PnR4e",
        "outputId": "752115dc-036a-4a2d-a219-f4177bfa9408"
      },
      "execution_count": 2,
      "outputs": [
        {
          "output_type": "display_data",
          "data": {
            "text/plain": [
              "<IPython.core.display.HTML object>"
            ],
            "text/html": [
              "\n",
              "     <input type=\"file\" id=\"files-7c810f97-b3b6-40ef-9642-9b12c69fd74b\" name=\"files[]\" multiple disabled\n",
              "        style=\"border:none\" />\n",
              "     <output id=\"result-7c810f97-b3b6-40ef-9642-9b12c69fd74b\">\n",
              "      Upload widget is only available when the cell has been executed in the\n",
              "      current browser session. Please rerun this cell to enable.\n",
              "      </output>\n",
              "      <script>// Copyright 2017 Google LLC\n",
              "//\n",
              "// Licensed under the Apache License, Version 2.0 (the \"License\");\n",
              "// you may not use this file except in compliance with the License.\n",
              "// You may obtain a copy of the License at\n",
              "//\n",
              "//      http://www.apache.org/licenses/LICENSE-2.0\n",
              "//\n",
              "// Unless required by applicable law or agreed to in writing, software\n",
              "// distributed under the License is distributed on an \"AS IS\" BASIS,\n",
              "// WITHOUT WARRANTIES OR CONDITIONS OF ANY KIND, either express or implied.\n",
              "// See the License for the specific language governing permissions and\n",
              "// limitations under the License.\n",
              "\n",
              "/**\n",
              " * @fileoverview Helpers for google.colab Python module.\n",
              " */\n",
              "(function(scope) {\n",
              "function span(text, styleAttributes = {}) {\n",
              "  const element = document.createElement('span');\n",
              "  element.textContent = text;\n",
              "  for (const key of Object.keys(styleAttributes)) {\n",
              "    element.style[key] = styleAttributes[key];\n",
              "  }\n",
              "  return element;\n",
              "}\n",
              "\n",
              "// Max number of bytes which will be uploaded at a time.\n",
              "const MAX_PAYLOAD_SIZE = 100 * 1024;\n",
              "\n",
              "function _uploadFiles(inputId, outputId) {\n",
              "  const steps = uploadFilesStep(inputId, outputId);\n",
              "  const outputElement = document.getElementById(outputId);\n",
              "  // Cache steps on the outputElement to make it available for the next call\n",
              "  // to uploadFilesContinue from Python.\n",
              "  outputElement.steps = steps;\n",
              "\n",
              "  return _uploadFilesContinue(outputId);\n",
              "}\n",
              "\n",
              "// This is roughly an async generator (not supported in the browser yet),\n",
              "// where there are multiple asynchronous steps and the Python side is going\n",
              "// to poll for completion of each step.\n",
              "// This uses a Promise to block the python side on completion of each step,\n",
              "// then passes the result of the previous step as the input to the next step.\n",
              "function _uploadFilesContinue(outputId) {\n",
              "  const outputElement = document.getElementById(outputId);\n",
              "  const steps = outputElement.steps;\n",
              "\n",
              "  const next = steps.next(outputElement.lastPromiseValue);\n",
              "  return Promise.resolve(next.value.promise).then((value) => {\n",
              "    // Cache the last promise value to make it available to the next\n",
              "    // step of the generator.\n",
              "    outputElement.lastPromiseValue = value;\n",
              "    return next.value.response;\n",
              "  });\n",
              "}\n",
              "\n",
              "/**\n",
              " * Generator function which is called between each async step of the upload\n",
              " * process.\n",
              " * @param {string} inputId Element ID of the input file picker element.\n",
              " * @param {string} outputId Element ID of the output display.\n",
              " * @return {!Iterable<!Object>} Iterable of next steps.\n",
              " */\n",
              "function* uploadFilesStep(inputId, outputId) {\n",
              "  const inputElement = document.getElementById(inputId);\n",
              "  inputElement.disabled = false;\n",
              "\n",
              "  const outputElement = document.getElementById(outputId);\n",
              "  outputElement.innerHTML = '';\n",
              "\n",
              "  const pickedPromise = new Promise((resolve) => {\n",
              "    inputElement.addEventListener('change', (e) => {\n",
              "      resolve(e.target.files);\n",
              "    });\n",
              "  });\n",
              "\n",
              "  const cancel = document.createElement('button');\n",
              "  inputElement.parentElement.appendChild(cancel);\n",
              "  cancel.textContent = 'Cancel upload';\n",
              "  const cancelPromise = new Promise((resolve) => {\n",
              "    cancel.onclick = () => {\n",
              "      resolve(null);\n",
              "    };\n",
              "  });\n",
              "\n",
              "  // Wait for the user to pick the files.\n",
              "  const files = yield {\n",
              "    promise: Promise.race([pickedPromise, cancelPromise]),\n",
              "    response: {\n",
              "      action: 'starting',\n",
              "    }\n",
              "  };\n",
              "\n",
              "  cancel.remove();\n",
              "\n",
              "  // Disable the input element since further picks are not allowed.\n",
              "  inputElement.disabled = true;\n",
              "\n",
              "  if (!files) {\n",
              "    return {\n",
              "      response: {\n",
              "        action: 'complete',\n",
              "      }\n",
              "    };\n",
              "  }\n",
              "\n",
              "  for (const file of files) {\n",
              "    const li = document.createElement('li');\n",
              "    li.append(span(file.name, {fontWeight: 'bold'}));\n",
              "    li.append(span(\n",
              "        `(${file.type || 'n/a'}) - ${file.size} bytes, ` +\n",
              "        `last modified: ${\n",
              "            file.lastModifiedDate ? file.lastModifiedDate.toLocaleDateString() :\n",
              "                                    'n/a'} - `));\n",
              "    const percent = span('0% done');\n",
              "    li.appendChild(percent);\n",
              "\n",
              "    outputElement.appendChild(li);\n",
              "\n",
              "    const fileDataPromise = new Promise((resolve) => {\n",
              "      const reader = new FileReader();\n",
              "      reader.onload = (e) => {\n",
              "        resolve(e.target.result);\n",
              "      };\n",
              "      reader.readAsArrayBuffer(file);\n",
              "    });\n",
              "    // Wait for the data to be ready.\n",
              "    let fileData = yield {\n",
              "      promise: fileDataPromise,\n",
              "      response: {\n",
              "        action: 'continue',\n",
              "      }\n",
              "    };\n",
              "\n",
              "    // Use a chunked sending to avoid message size limits. See b/62115660.\n",
              "    let position = 0;\n",
              "    do {\n",
              "      const length = Math.min(fileData.byteLength - position, MAX_PAYLOAD_SIZE);\n",
              "      const chunk = new Uint8Array(fileData, position, length);\n",
              "      position += length;\n",
              "\n",
              "      const base64 = btoa(String.fromCharCode.apply(null, chunk));\n",
              "      yield {\n",
              "        response: {\n",
              "          action: 'append',\n",
              "          file: file.name,\n",
              "          data: base64,\n",
              "        },\n",
              "      };\n",
              "\n",
              "      let percentDone = fileData.byteLength === 0 ?\n",
              "          100 :\n",
              "          Math.round((position / fileData.byteLength) * 100);\n",
              "      percent.textContent = `${percentDone}% done`;\n",
              "\n",
              "    } while (position < fileData.byteLength);\n",
              "  }\n",
              "\n",
              "  // All done.\n",
              "  yield {\n",
              "    response: {\n",
              "      action: 'complete',\n",
              "    }\n",
              "  };\n",
              "}\n",
              "\n",
              "scope.google = scope.google || {};\n",
              "scope.google.colab = scope.google.colab || {};\n",
              "scope.google.colab._files = {\n",
              "  _uploadFiles,\n",
              "  _uploadFilesContinue,\n",
              "};\n",
              "})(self);\n",
              "</script> "
            ]
          },
          "metadata": {}
        },
        {
          "output_type": "stream",
          "name": "stdout",
          "text": [
            "Saving E6-CloudSecurity-Data.xlsx to E6-CloudSecurity-Data.xlsx\n"
          ]
        }
      ]
    },
    {
      "cell_type": "code",
      "source": [
        "xls = pd.ExcelFile('/content/E6-CloudSecurity-Data.xlsx')\n",
        "raw_data = pd.read_excel(xls, 0)"
      ],
      "metadata": {
        "id": "m9sCi_6gnlbi"
      },
      "execution_count": 3,
      "outputs": []
    },
    {
      "cell_type": "code",
      "source": [
        "helm_experiment_design = files.upload() # upload the data from the helm experiment design file"
      ],
      "metadata": {
        "colab": {
          "base_uri": "https://localhost:8080/",
          "height": 73
        },
        "id": "Zk1oIMXpvRGt",
        "outputId": "2495452f-70b6-462b-807b-b2433bca2d36"
      },
      "execution_count": 4,
      "outputs": [
        {
          "output_type": "display_data",
          "data": {
            "text/plain": [
              "<IPython.core.display.HTML object>"
            ],
            "text/html": [
              "\n",
              "     <input type=\"file\" id=\"files-d6b6f909-d9e2-4e8a-a012-40b43f59f1df\" name=\"files[]\" multiple disabled\n",
              "        style=\"border:none\" />\n",
              "     <output id=\"result-d6b6f909-d9e2-4e8a-a012-40b43f59f1df\">\n",
              "      Upload widget is only available when the cell has been executed in the\n",
              "      current browser session. Please rerun this cell to enable.\n",
              "      </output>\n",
              "      <script>// Copyright 2017 Google LLC\n",
              "//\n",
              "// Licensed under the Apache License, Version 2.0 (the \"License\");\n",
              "// you may not use this file except in compliance with the License.\n",
              "// You may obtain a copy of the License at\n",
              "//\n",
              "//      http://www.apache.org/licenses/LICENSE-2.0\n",
              "//\n",
              "// Unless required by applicable law or agreed to in writing, software\n",
              "// distributed under the License is distributed on an \"AS IS\" BASIS,\n",
              "// WITHOUT WARRANTIES OR CONDITIONS OF ANY KIND, either express or implied.\n",
              "// See the License for the specific language governing permissions and\n",
              "// limitations under the License.\n",
              "\n",
              "/**\n",
              " * @fileoverview Helpers for google.colab Python module.\n",
              " */\n",
              "(function(scope) {\n",
              "function span(text, styleAttributes = {}) {\n",
              "  const element = document.createElement('span');\n",
              "  element.textContent = text;\n",
              "  for (const key of Object.keys(styleAttributes)) {\n",
              "    element.style[key] = styleAttributes[key];\n",
              "  }\n",
              "  return element;\n",
              "}\n",
              "\n",
              "// Max number of bytes which will be uploaded at a time.\n",
              "const MAX_PAYLOAD_SIZE = 100 * 1024;\n",
              "\n",
              "function _uploadFiles(inputId, outputId) {\n",
              "  const steps = uploadFilesStep(inputId, outputId);\n",
              "  const outputElement = document.getElementById(outputId);\n",
              "  // Cache steps on the outputElement to make it available for the next call\n",
              "  // to uploadFilesContinue from Python.\n",
              "  outputElement.steps = steps;\n",
              "\n",
              "  return _uploadFilesContinue(outputId);\n",
              "}\n",
              "\n",
              "// This is roughly an async generator (not supported in the browser yet),\n",
              "// where there are multiple asynchronous steps and the Python side is going\n",
              "// to poll for completion of each step.\n",
              "// This uses a Promise to block the python side on completion of each step,\n",
              "// then passes the result of the previous step as the input to the next step.\n",
              "function _uploadFilesContinue(outputId) {\n",
              "  const outputElement = document.getElementById(outputId);\n",
              "  const steps = outputElement.steps;\n",
              "\n",
              "  const next = steps.next(outputElement.lastPromiseValue);\n",
              "  return Promise.resolve(next.value.promise).then((value) => {\n",
              "    // Cache the last promise value to make it available to the next\n",
              "    // step of the generator.\n",
              "    outputElement.lastPromiseValue = value;\n",
              "    return next.value.response;\n",
              "  });\n",
              "}\n",
              "\n",
              "/**\n",
              " * Generator function which is called between each async step of the upload\n",
              " * process.\n",
              " * @param {string} inputId Element ID of the input file picker element.\n",
              " * @param {string} outputId Element ID of the output display.\n",
              " * @return {!Iterable<!Object>} Iterable of next steps.\n",
              " */\n",
              "function* uploadFilesStep(inputId, outputId) {\n",
              "  const inputElement = document.getElementById(inputId);\n",
              "  inputElement.disabled = false;\n",
              "\n",
              "  const outputElement = document.getElementById(outputId);\n",
              "  outputElement.innerHTML = '';\n",
              "\n",
              "  const pickedPromise = new Promise((resolve) => {\n",
              "    inputElement.addEventListener('change', (e) => {\n",
              "      resolve(e.target.files);\n",
              "    });\n",
              "  });\n",
              "\n",
              "  const cancel = document.createElement('button');\n",
              "  inputElement.parentElement.appendChild(cancel);\n",
              "  cancel.textContent = 'Cancel upload';\n",
              "  const cancelPromise = new Promise((resolve) => {\n",
              "    cancel.onclick = () => {\n",
              "      resolve(null);\n",
              "    };\n",
              "  });\n",
              "\n",
              "  // Wait for the user to pick the files.\n",
              "  const files = yield {\n",
              "    promise: Promise.race([pickedPromise, cancelPromise]),\n",
              "    response: {\n",
              "      action: 'starting',\n",
              "    }\n",
              "  };\n",
              "\n",
              "  cancel.remove();\n",
              "\n",
              "  // Disable the input element since further picks are not allowed.\n",
              "  inputElement.disabled = true;\n",
              "\n",
              "  if (!files) {\n",
              "    return {\n",
              "      response: {\n",
              "        action: 'complete',\n",
              "      }\n",
              "    };\n",
              "  }\n",
              "\n",
              "  for (const file of files) {\n",
              "    const li = document.createElement('li');\n",
              "    li.append(span(file.name, {fontWeight: 'bold'}));\n",
              "    li.append(span(\n",
              "        `(${file.type || 'n/a'}) - ${file.size} bytes, ` +\n",
              "        `last modified: ${\n",
              "            file.lastModifiedDate ? file.lastModifiedDate.toLocaleDateString() :\n",
              "                                    'n/a'} - `));\n",
              "    const percent = span('0% done');\n",
              "    li.appendChild(percent);\n",
              "\n",
              "    outputElement.appendChild(li);\n",
              "\n",
              "    const fileDataPromise = new Promise((resolve) => {\n",
              "      const reader = new FileReader();\n",
              "      reader.onload = (e) => {\n",
              "        resolve(e.target.result);\n",
              "      };\n",
              "      reader.readAsArrayBuffer(file);\n",
              "    });\n",
              "    // Wait for the data to be ready.\n",
              "    let fileData = yield {\n",
              "      promise: fileDataPromise,\n",
              "      response: {\n",
              "        action: 'continue',\n",
              "      }\n",
              "    };\n",
              "\n",
              "    // Use a chunked sending to avoid message size limits. See b/62115660.\n",
              "    let position = 0;\n",
              "    do {\n",
              "      const length = Math.min(fileData.byteLength - position, MAX_PAYLOAD_SIZE);\n",
              "      const chunk = new Uint8Array(fileData, position, length);\n",
              "      position += length;\n",
              "\n",
              "      const base64 = btoa(String.fromCharCode.apply(null, chunk));\n",
              "      yield {\n",
              "        response: {\n",
              "          action: 'append',\n",
              "          file: file.name,\n",
              "          data: base64,\n",
              "        },\n",
              "      };\n",
              "\n",
              "      let percentDone = fileData.byteLength === 0 ?\n",
              "          100 :\n",
              "          Math.round((position / fileData.byteLength) * 100);\n",
              "      percent.textContent = `${percentDone}% done`;\n",
              "\n",
              "    } while (position < fileData.byteLength);\n",
              "  }\n",
              "\n",
              "  // All done.\n",
              "  yield {\n",
              "    response: {\n",
              "      action: 'complete',\n",
              "    }\n",
              "  };\n",
              "}\n",
              "\n",
              "scope.google = scope.google || {};\n",
              "scope.google.colab = scope.google.colab || {};\n",
              "scope.google.colab._files = {\n",
              "  _uploadFiles,\n",
              "  _uploadFilesContinue,\n",
              "};\n",
              "})(self);\n",
              "</script> "
            ]
          },
          "metadata": {}
        },
        {
          "output_type": "stream",
          "name": "stdout",
          "text": [
            "Saving Helm_Experiment_Design.xlsx to Helm_Experiment_Design.xlsx\n"
          ]
        }
      ]
    },
    {
      "cell_type": "code",
      "source": [
        "xls2 = pd.ExcelFile('/content/Helm_Experiment_Design.xlsx')\n",
        "exp_design = pd.read_excel(xls2, 0)"
      ],
      "metadata": {
        "id": "F6bcEKHzvctg"
      },
      "execution_count": 5,
      "outputs": []
    },
    {
      "cell_type": "code",
      "source": [
        "NUMBER_OF_TREATMENTS = 4 # number of tools\n",
        "TREATMENT_LETTERS = [\"A\", \"B\", \"C\", \"D\"]\n",
        "NUMBER_OF_CHARTS = 9 # Number of charts per group\n",
        "\n",
        "# List of lists of charts containing the 4-tuple values. Ex: [[\"PRCM\", \"PNWN\", ...], [...], ...].\n",
        "# The lists inside the big list represent the treatments with the first one being treatment A.\n",
        "# Each list contains the 9 charts with the 4 tuple values.\n",
        "CHART_BY_TREATMENT = []\n",
        "TOOL_BY_TREATMENT = [] #Same as the previous variable but for the tools. Ex: [[\"KICS\", \"Checkov\", ...], [...], ...]\n",
        "VIOLATED_BEGINNING_BY_TREATMENT = [] #Correction about the policies violated at the beginning for each chart for each treatment\n",
        "MITIGATED_BY_TREATMENT = [] # Correction about the mitigations for each chart for each treatment\n",
        "VIOLATED_END_BY_TREATMENT = [] # Correction about the policies violated at the end for each chart for each treatment\n",
        "row_group = 1 # row number containing the first tuples\n",
        "\n",
        "for treatment in range(NUMBER_OF_TREATMENTS):\n",
        "  l_charts = []\n",
        "  l_tools = []\n",
        "  l_beginning = []\n",
        "  l_mitigation = []\n",
        "  l_ending = []\n",
        "  for chart in range(NUMBER_OF_CHARTS):\n",
        "    #CHART\n",
        "    result = exp_design.iloc[row_group, chart + 1]\n",
        "    result_list = result.split(\", \")\n",
        "    caracteristics = [\"P\", \"R\", \"W\", \"C\"]\n",
        "    if result_list[0] != \"present\":\n",
        "      caracteristics[0] = \"A\"\n",
        "    if result_list[1] != \"alert\":\n",
        "      caracteristics[1] = \"N\"\n",
        "    if result_list[2] != \"wrong\":\n",
        "      caracteristics[2] = \"C\"\n",
        "    if result_list[3] == \"namespace\":\n",
        "      caracteristics[3] = \"S\"\n",
        "    else:\n",
        "      caracteristics[3] = result_list[3][0].upper()\n",
        "    l_charts.append(''.join(caracteristics))\n",
        "\n",
        "    #TOOL\n",
        "    result = exp_design.iloc[row_group + 2, chart + 1]\n",
        "    l_tools.append(result)\n",
        "\n",
        "    #BEGINNING\n",
        "    result = exp_design.iloc[row_group + 3, chart + 1]\n",
        "    l_beginning.append(result)\n",
        "\n",
        "    #MITIGATION\n",
        "    result = exp_design.iloc[row_group + 4, chart + 1]\n",
        "    l_mitigation.append(result)\n",
        "\n",
        "    #ENDING\n",
        "    result = exp_design.iloc[row_group + 5, chart + 1]\n",
        "    l_ending.append(result)\n",
        "\n",
        "  CHART_BY_TREATMENT.append(l_charts)\n",
        "  TOOL_BY_TREATMENT.append(l_tools)\n",
        "  VIOLATED_BEGINNING_BY_TREATMENT.append(l_beginning)\n",
        "  MITIGATED_BY_TREATMENT.append(l_mitigation)\n",
        "  VIOLATED_END_BY_TREATMENT.append(l_ending)\n",
        "\n",
        "  row_group += 7\n",
        "\n",
        "#Variables to fine tune the intervention metrics\n",
        "BONUS = 1\n",
        "MALUS = 0.5\n",
        "BONUS_M2 = 1\n",
        "MALUS_M2 = 0.2"
      ],
      "metadata": {
        "id": "Jk-eCYPXqSif"
      },
      "execution_count": 6,
      "outputs": []
    },
    {
      "cell_type": "code",
      "source": [
        "processed_data = {\"SID\": [], \"Group\": [], \"Scenario\": [], \"DemoM1\": [], \"DemoM2\": [], \"IntervM1\": [], \"IntervM2\": [], \"PercM\": []}\n",
        "\n",
        "student_id = 1\n",
        "for students in range(len(raw_data)):\n",
        "  student_treatment = raw_data.loc[students, \"Treatment\"]\n",
        "  column_first_chart = 9 + (ord(student_treatment) - ord('A')) * 28 # Column number containing the first question about the charts depending on the treatment\n",
        "\n",
        "  #demographic variables\n",
        "  d1_knowledge_bubernetes = raw_data.loc[students, \"How familiar are you with Kubernetes and Helm Charts?   1 - Never used it before  2 - Somewhat familiar (used it few times)  3 - Really familiar (attended courses and used in a project)  4 - Expert (several projects or work experience) - Kubernetes\"]\n",
        "  d2_knowledge_helm = raw_data.loc[students, \"How familiar are you with Kubernetes and Helm Charts?   1 - Never used it before  2 - Somewhat familiar (used it few times)  3 - Really familiar (attended courses and used in a project)  4 - Expert (several projects or work experience) - Helm Charts\"]\n",
        "\n",
        "  #perception variable\n",
        "  percm = raw_data.loc[students, \"Out of the tools that you used, select the one that you think performed better (e.g., in terms of number of misconfigurations found or less false negatives).\"]\n",
        "\n",
        "  #intervM1\n",
        "  for chart in range(NUMBER_OF_CHARTS):\n",
        "    if chart == 4: #to escape the column \"what is the storage of the volumeClaimTemplates called data?\"\n",
        "      column_first_chart += 1\n",
        "\n",
        "    #intervM1\n",
        "    policies_beginning = raw_data.iloc[students, column_first_chart] # Answer of the question \"What policies were violated at the beginning (original template file)?\"\n",
        "    policies_beginning_list = policies_beginning.split(',')\n",
        "    policy_violated = VIOLATED_BEGINNING_BY_TREATMENT[ord(student_treatment) - ord('A')][chart] # the actual policy that was violated based on the correction from the template\n",
        "    intervM1 = 0\n",
        "    try:\n",
        "      index = policies_beginning_list.index(policy_violated)\n",
        "      policies_beginning_list.remove(policy_violated)\n",
        "      intervM1 += BONUS\n",
        "    except:\n",
        "      pass\n",
        "    intervM1 = (intervM1 - MALUS * len(policies_beginning_list)) * (30 * d1_knowledge_bubernetes / 100 + d2_knowledge_helm)\n",
        "\n",
        "    #intervM2\n",
        "    mitigation_student = raw_data.iloc[students, column_first_chart + 1] # Answer of the question \"Were the mitigations implemented?\"\n",
        "    mitigation_correction = MITIGATED_BY_TREATMENT[ord(student_treatment) - ord('A')][chart] # The actual real answer from the correction\n",
        "    policies_end = raw_data.iloc[students, column_first_chart + 2] #Answer of the question \"What policies were violated at the end (fixed template file)?\"\n",
        "    policies_end_list = policies_end.split(',')\n",
        "    policy_violated_end = VIOLATED_END_BY_TREATMENT[ord(student_treatment) - ord('A')][chart] #The actual real answer from the correction about the previous variable\n",
        "    intervM2 = 0\n",
        "    if mitigation_correction == mitigation_student:\n",
        "      intervM2 = 3\n",
        "    try:\n",
        "      index = policies_end_list.index(policy_violated_end)\n",
        "      policies_end_list.remove(policy_violated_end)\n",
        "      intervM2 += BONUS_M2\n",
        "    except:\n",
        "      pass\n",
        "    intervM2 -= len(policies_end_list) * MALUS_M2\n",
        "\n",
        "    processed_data[\"SID\"].append(student_id)\n",
        "    processed_data[\"Group\"].append(TOOL_BY_TREATMENT[ord(student_treatment) - ord('A')][chart])\n",
        "    processed_data[\"Scenario\"].append(CHART_BY_TREATMENT[ord(student_treatment) - ord('A')][chart][3])\n",
        "    processed_data[\"DemoM1\"].append(d1_knowledge_bubernetes)\n",
        "    processed_data[\"DemoM2\"].append(d2_knowledge_helm)\n",
        "    processed_data[\"IntervM1\"].append(intervM1)\n",
        "    processed_data[\"IntervM2\"].append(intervM2)\n",
        "    if percm == \"Checkov\":\n",
        "      processed_data[\"PercM\"].append(1)\n",
        "    elif percm == \"KICS\":\n",
        "      processed_data[\"PercM\"].append(2)\n",
        "    else:\n",
        "      processed_data[\"PercM\"].append(3)\n",
        "\n",
        "    column_first_chart += 3\n",
        "\n",
        "  student_id += 1"
      ],
      "metadata": {
        "id": "BBYDpNMirjj8"
      },
      "execution_count": 7,
      "outputs": []
    },
    {
      "cell_type": "code",
      "source": [
        "df_processed_data = pd.DataFrame(processed_data)\n",
        "df_processed_data.to_csv('processed_data.csv', mode='w', index=False, header=True)"
      ],
      "metadata": {
        "id": "_P5iE1qzYZRT"
      },
      "execution_count": 8,
      "outputs": []
    },
    {
      "cell_type": "markdown",
      "source": [
        "CSV Fields\n",
        "*   SID --> Student ID,  eg. A123\n",
        "*   Group --> eg. Full/ Slice\n",
        "*   Scenario --> eg. Vulnerability types: Path/ DOS/ SQL/ XSS\n",
        "*   DemoMX --> Demographic Metrics, eg. Skills in Java, programming experience\n",
        "*   IntervMX --> Metric of your choice, eg. Number of correctly identified vulnerability\n",
        "*   PercM --> Perceived metric, eg. Perceived ML accuracy, if not applicable to the experiment set value NULL"
      ],
      "metadata": {
        "id": "bw7lmZtC--XS"
      }
    },
    {
      "cell_type": "markdown",
      "source": [
        "### Read data from .csv"
      ],
      "metadata": {
        "id": "NIRk_CUn8L0G"
      }
    },
    {
      "cell_type": "code",
      "source": [
        "data = pd.read_csv('/content/processed_data.csv')"
      ],
      "metadata": {
        "id": "fJ7MwMPG7suB"
      },
      "execution_count": null,
      "outputs": []
    },
    {
      "cell_type": "code",
      "source": [
        "MIN_DEMO1 = 1\n",
        "MAX_DEMO1 = 5\n",
        "MIN_DEMO2 = 1\n",
        "MAX_DEMO2 = 5"
      ],
      "metadata": {
        "id": "kGrvsWDDfwk7"
      },
      "execution_count": null,
      "outputs": []
    },
    {
      "cell_type": "code",
      "source": [
        "MIN_INTERV1 = -5\n",
        "MAX_INTERV1 = 5\n",
        "MIN_INTERV2 = -5\n",
        "MAX_INTERV2 = 5"
      ],
      "metadata": {
        "id": "15z8INODj0wM"
      },
      "execution_count": null,
      "outputs": []
    },
    {
      "cell_type": "code",
      "source": [
        "MIN_PERC = 1\n",
        "MAX_PERC = 3"
      ],
      "metadata": {
        "id": "497VIY_eo8gs"
      },
      "execution_count": null,
      "outputs": []
    },
    {
      "cell_type": "code",
      "source": [
        "GROUP_COLORS = {\"A\": \"#3274A1\", \"B\": '#E1812C', \"C\": '#3A923A'}"
      ],
      "metadata": {
        "id": "m40rAPNomiOf"
      },
      "execution_count": null,
      "outputs": []
    },
    {
      "cell_type": "code",
      "source": [
        "SCENARIO_COLORS = {'C1':\"turquoise\", 'C2':\"gold\", 'C3':\"orchid\"}"
      ],
      "metadata": {
        "id": "bWarAISynJf5"
      },
      "execution_count": null,
      "outputs": []
    },
    {
      "cell_type": "markdown",
      "source": [
        "# Demographic Analysis"
      ],
      "metadata": {
        "id": "I5bteL80x49I"
      }
    },
    {
      "cell_type": "markdown",
      "source": [
        "## Histograms\n",
        "Distributions of data (based on groups/ scenario)"
      ],
      "metadata": {
        "id": "mVcBRm758pwl"
      }
    },
    {
      "cell_type": "code",
      "source": [
        "def produce_histogram(ax, data, group, groupVals, field, min, max, colors):\n",
        "  if group == None:\n",
        "    n, bins, patches = ax.hist(data[field], bins = np.arange(min-0.25, max+1.75, 1), rwidth=0.7, width=0.75)\n",
        "    if field == \"DemoM1\" or field == \"DemoM2\" or field == \"PercM\":\n",
        "      for i in range(len(patches.patches)):\n",
        "        patches.patches[i].set(height = patches.patches[i].get_height() / 9)\n",
        "    if field == \"PercM\":\n",
        "      ax.bar_label(patches, labels = [\"Checkov\", \"KICS\", \"Kubescape\"], label_type = 'center')\n",
        "    else:\n",
        "      ax.bar_label(patches, fontsize=10)\n",
        "  else:\n",
        "    n, bins, patches = ax.hist(data[data[group] == groupVals[0]][field], bins = np.arange(min-0.25, max+1.75, 1), rwidth=0.7, color = colors[groupVals[0]], width=0.25)\n",
        "    ax.bar_label(patches, fontsize=10)\n",
        "    n, bins, patches = ax.hist(data[data[group] == groupVals[1]][field], bins = np.arange(min, max+2, 1), rwidth=0.7, color = colors[groupVals[1]], width=0.25)\n",
        "    ax.bar_label(patches, fontsize=10)\n",
        "    n, bins, patches = ax.hist(data[data[group] == groupVals[2]][field], bins = np.arange(min+0.25, max+2.25, 1), rwidth=0.7, color = colors[groupVals[2]], width=0.25)\n",
        "    ax.bar_label(patches, fontsize=10)\n",
        "  ax.set_xticks(np.arange(min+0.25, max+1.25, 1), np.arange(min, max+1, 1))\n",
        "  ax.set_title(field)\n",
        "  ax.set_xlim([min-0.5, max+1])\n",
        "  return ax"
      ],
      "metadata": {
        "id": "ammo01Btmcvj"
      },
      "execution_count": null,
      "outputs": []
    },
    {
      "cell_type": "markdown",
      "source": [
        "### Demographic Histogram"
      ],
      "metadata": {
        "id": "LaC2fUMHz6Sn"
      }
    },
    {
      "cell_type": "code",
      "source": [
        "max_ylim = (max(data.groupby([\"DemoM1\"])[\"SID\"].count().max(), data.groupby([\"DemoM2\"])[\"SID\"].count().max())) / 6 + 5\n",
        "\n",
        "fig, (ax1, ax2) = plt.subplots(1, 2, figsize=(10, 4))\n",
        "\n",
        "ax1 = produce_histogram(ax1, data, None, None, \"DemoM1\", MIN_DEMO1, MAX_DEMO1, GROUP_COLORS)\n",
        "ax1.set_ylim([0,max_ylim])\n",
        "\n",
        "ax2 = produce_histogram(ax2, data, None, None, \"DemoM2\", MIN_DEMO2, MAX_DEMO2, GROUP_COLORS)\n",
        "ax2.set_ylim([0,max_ylim])\n",
        "\n",
        "fig.suptitle(\"Demographic Histogram\")\n",
        "plt.show()"
      ],
      "metadata": {
        "colab": {
          "base_uri": "https://localhost:8080/",
          "height": 408
        },
        "id": "Pk0glGX11Drv",
        "outputId": "3f6ba47c-5cf0-4f82-a727-d6bbd9b1fd1d"
      },
      "execution_count": null,
      "outputs": [
        {
          "output_type": "display_data",
          "data": {
            "text/plain": [
              "<Figure size 1000x400 with 2 Axes>"
            ],
            "image/png": "[encoded data removed]"
          },
          "metadata": {}
        }
      ]
    },
    {
      "cell_type": "markdown",
      "source": [
        "## Statistics about the demographic variables"
      ],
      "metadata": {
        "id": "iUvArwcNjPRF"
      }
    },
    {
      "cell_type": "code",
      "source": [
        "# Statistics about the demographic variables\n",
        "mean_demoM1 = data[\"DemoM1\"].mean()\n",
        "median_demoM1 = data[\"DemoM1\"].median()\n",
        "stdev_demoM1 = data[\"DemoM1\"].std()\n",
        "mean_demoM2 = data[\"DemoM2\"].mean()\n",
        "median_demoM2 = data[\"DemoM2\"].median()\n",
        "stdev_demoM2 = data[\"DemoM2\"].std()\n",
        "print(\"Mean DemoM1: \", mean_demoM1)\n",
        "print(\"Median DemoM1: \", median_demoM1)\n",
        "print(\"Stdev DemoM1: \", stdev_demoM1)\n",
        "print(\"Mean DemoM2: \", mean_demoM2)\n",
        "print(\"Median DemoM2: \", median_demoM2)\n",
        "print(\"Stdev DemoM2: \", stdev_demoM2)"
      ],
      "metadata": {
        "colab": {
          "base_uri": "https://localhost:8080/"
        },
        "id": "VT3fR9ztyB7F",
        "outputId": "b7fee2ac-1587-4c5a-986d-f5a82ef451a1"
      },
      "execution_count": null,
      "outputs": [
        {
          "output_type": "stream",
          "name": "stdout",
          "text": [
            "Mean DemoM1:  1.263157894736842\n",
            "Median DemoM1:  1.0\n",
            "Stdev DemoM1:  0.5485697700107612\n",
            "Mean DemoM2:  1.0\n",
            "Median DemoM2:  1.0\n",
            "Stdev DemoM2:  0.0\n"
          ]
        }
      ]
    },
    {
      "cell_type": "markdown",
      "source": [
        "## Scatter plots\n",
        "Represent values for two different numeric variables to compare the two variables."
      ],
      "metadata": {
        "id": "_fIhjo9rtsQW"
      }
    },
    {
      "cell_type": "code",
      "source": [
        "def scatter_plot(ax, data, group, groupVal, colors, first, second):\n",
        "  if group == None:\n",
        "    data_scatter = data\n",
        "    color = \"blue\"\n",
        "  else:\n",
        "    data_scatter = data[data[group] == groupVal]\n",
        "    color = colors[groupVal]\n",
        "\n",
        "  a, ca = np.unique(np.c_[data_scatter[first],data_scatter[second]], return_counts=True, axis=0)\n",
        "  ax.scatter(a[:,0],a[:,1],s=ca*50 / 9, c=color)\n",
        "\n",
        "  if \"Demo\" in first:\n",
        "    min1 = MIN_DEMO1\n",
        "    max1 = MAX_DEMO1\n",
        "  else:\n",
        "    min1 = MIN_INTERV1\n",
        "    max1 = MAX_INTERV1\n",
        "\n",
        "  if \"Demo\" in second:\n",
        "    min2 = MIN_DEMO2\n",
        "    max2 = MAX_DEMO2\n",
        "  else:\n",
        "    min2 = MIN_INTERV2\n",
        "    max2 = MAX_INTERV2\n",
        "\n",
        "  ax.set_xticks(np.arange(min1, max1+1,1),np.arange(min1, max1+1,1))\n",
        "  ax.set_yticks(np.arange(min2, max2+1,1),np.arange(min2, max2+1,1))\n",
        "  if group is not None:\n",
        "    ax.set_title(group + \" \" + groupVal)\n",
        "  return ax"
      ],
      "metadata": {
        "id": "dy-olrk4oJb3"
      },
      "execution_count": null,
      "outputs": []
    },
    {
      "cell_type": "markdown",
      "source": [
        "### Demographic Scatter Plot"
      ],
      "metadata": {
        "id": "VxJ9Viy2cIX7"
      }
    },
    {
      "cell_type": "code",
      "source": [
        "fig, ax = plt.subplots(1, 1, figsize=(4, 4))\n",
        "\n",
        "ax = scatter_plot(ax, data, None, None, GROUP_COLORS,\"DemoM1\", \"DemoM2\")\n",
        "\n",
        "ax.set_xlabel(\"Demographic Metric 1\")\n",
        "ax.set_ylabel(\"Demographic Metric 2\")\n",
        "\n",
        "plt.title(\"Demographic Scatter Plot\")\n",
        "plt.show()"
      ],
      "metadata": {
        "colab": {
          "base_uri": "https://localhost:8080/",
          "height": 410
        },
        "id": "BdSyIJ0Nus7z",
        "outputId": "e434d30a-6a46-46d5-bac0-be306e6ea298"
      },
      "execution_count": null,
      "outputs": [
        {
          "output_type": "display_data",
          "data": {
            "text/plain": [
              "<Figure size 400x400 with 1 Axes>"
            ],
            "image/png": "[encoded data removed]"
          },
          "metadata": {}
        }
      ]
    },
    {
      "cell_type": "markdown",
      "source": [
        "# Intervention Metrics"
      ],
      "metadata": {
        "id": "wASKNWvX95WL"
      }
    },
    {
      "cell_type": "markdown",
      "source": [
        "## Boxplots\n",
        "A standardized way of displaying the dataset based on the five-number summary: the minimum, the maximum, the sample median, and the first and third quartiles."
      ],
      "metadata": {
        "id": "KXBZhfxKSRk2"
      }
    },
    {
      "cell_type": "markdown",
      "source": [
        "### Intervention Boxplot by Group"
      ],
      "metadata": {
        "id": "vOuEJ_NGSXBW"
      }
    },
    {
      "cell_type": "code",
      "source": [
        "fig, axes = plt.subplots(1, 2, figsize=(10, 5))\n",
        "\n",
        "sns.set_palette(palette=GROUP_COLORS.values())\n",
        "\n",
        "sns.boxplot(x='Group', y='IntervM1', data=data, ax=axes[0])\n",
        "axes[0].set_title(\"IntervM1\")\n",
        "axes[0].set_ylabel(\"\")\n",
        "\n",
        "sns.boxplot(x='Group', y='IntervM2', data=data, ax=axes[1])\n",
        "axes[1].set_title(\"IntervM2\")\n",
        "axes[1].set_ylabel(\"\")\n",
        "axes[1].semilogy\n",
        "\n",
        "fig.suptitle(\"Intervention Boxplot by Group\")\n",
        "plt.show()"
      ],
      "metadata": {
        "colab": {
          "base_uri": "https://localhost:8080/",
          "height": 515
        },
        "id": "6_floJpxqxMs",
        "outputId": "703b0dda-0a72-4f3a-8162-4a26e0e50c41"
      },
      "execution_count": null,
      "outputs": [
        {
          "output_type": "display_data",
          "data": {
            "text/plain": [
              "<Figure size 1000x500 with 2 Axes>"
            ],
            "image/png": "[encoded data removed]"
          },
          "metadata": {}
        }
      ]
    },
    {
      "cell_type": "markdown",
      "source": [
        "## Statistics about the intervention metrics based on the groups"
      ],
      "metadata": {
        "id": "UWKH7P2JjiYb"
      }
    },
    {
      "cell_type": "code",
      "source": [
        "mean_M1 = data.groupby(\"Group\")[\"IntervM1\"].mean()\n",
        "median_M1 = data.groupby(\"Group\")[\"IntervM1\"].median()\n",
        "stdev_M1 = data.groupby(\"Group\")[\"IntervM1\"].std()\n",
        "mean_M2 = data.groupby(\"Group\")[\"IntervM2\"].mean()\n",
        "median_M2 = data.groupby(\"Group\")[\"IntervM2\"].median()\n",
        "stdev_M2 = data.groupby(\"Group\")[\"IntervM2\"].std()\n",
        "print(\"Mean M1: \", mean_M1)\n",
        "print(\"Median M1: \", median_M1)\n",
        "print(\"Stdev M1: \", stdev_M1)\n",
        "print(\"Mean M2: \", mean_M2)\n",
        "print(\"Median M2: \", median_M2)\n",
        "print(\"Stdev M2: \", stdev_M2)"
      ],
      "metadata": {
        "colab": {
          "base_uri": "https://localhost:8080/"
        },
        "id": "wnhuI2gA53ne",
        "outputId": "48202dcb-3856-465a-a1de-c71ecf74f935"
      },
      "execution_count": null,
      "outputs": [
        {
          "output_type": "stream",
          "name": "stdout",
          "text": [
            "Mean M1:  Group\n",
            "Checkov      0.142982\n",
            "KICS         0.385088\n",
            "Kubescape    0.161404\n",
            "Name: IntervM1, dtype: float64\n",
            "Median M1:  Group\n",
            "Checkov     -0.65\n",
            "KICS         0.65\n",
            "Kubescape   -0.65\n",
            "Name: IntervM1, dtype: float64\n",
            "Stdev M1:  Group\n",
            "Checkov      0.987260\n",
            "KICS         1.064188\n",
            "Kubescape    1.058554\n",
            "Name: IntervM1, dtype: float64\n",
            "Mean M2:  Group\n",
            "Checkov      1.305263\n",
            "KICS         1.740351\n",
            "Kubescape    1.726316\n",
            "Name: IntervM2, dtype: float64\n",
            "Median M2:  Group\n",
            "Checkov      1.0\n",
            "KICS         1.0\n",
            "Kubescape    2.6\n",
            "Name: IntervM2, dtype: float64\n",
            "Stdev M2:  Group\n",
            "Checkov      1.513324\n",
            "KICS         1.429268\n",
            "Kubescape    1.665461\n",
            "Name: IntervM2, dtype: float64\n"
          ]
        }
      ]
    },
    {
      "cell_type": "markdown",
      "source": [
        "### Intervention Boxplot by Scenario"
      ],
      "metadata": {
        "id": "iIjWp91HSik5"
      }
    },
    {
      "cell_type": "code",
      "source": [
        "fig, axes = plt.subplots(1, 2, figsize=(10, 5))\n",
        "\n",
        "sns.set_palette(palette=SCENARIO_COLORS.values())\n",
        "\n",
        "sns.boxplot(x='Scenario', y='IntervM1', data=data, ax=axes[0])\n",
        "axes[0].set_title(\"IntervM1\")\n",
        "axes[0].set_ylabel(\"\")\n",
        "\n",
        "sns.boxplot(x='Scenario', y='IntervM2', data=data, ax=axes[1])\n",
        "axes[1].set_title(\"IntervM2\")\n",
        "axes[1].set_ylabel(\"\")\n",
        "axes[1].semilogy\n",
        "\n",
        "fig.suptitle(\"Intervention Boxplot by Scenario\")\n",
        "plt.show()"
      ],
      "metadata": {
        "colab": {
          "base_uri": "https://localhost:8080/",
          "height": 515
        },
        "outputId": "53fcaafd-c0d0-41df-a3b4-84451ba98be6",
        "id": "jCCtzLaktd5v"
      },
      "execution_count": null,
      "outputs": [
        {
          "output_type": "display_data",
          "data": {
            "text/plain": [
              "<Figure size 1000x500 with 2 Axes>"
            ],
            "image/png": "[encoded data removed]"
          },
          "metadata": {}
        }
      ]
    },
    {
      "cell_type": "code",
      "source": [
        "mean_M1 = data.groupby(\"Scenario\")[\"IntervM1\"].mean()\n",
        "median_M1 = data.groupby(\"Scenario\")[\"IntervM1\"].median()\n",
        "stdev_M1 = data.groupby(\"Scenario\")[\"IntervM1\"].std()\n",
        "mean_M2 = data.groupby(\"Scenario\")[\"IntervM2\"].mean()\n",
        "median_M2 = data.groupby(\"Scenario\")[\"IntervM2\"].median()\n",
        "stdev_M2 = data.groupby(\"Scenario\")[\"IntervM2\"].std()\n",
        "print(\"Mean M1: \", mean_M1)\n",
        "print(\"Median M1: \", median_M1)\n",
        "print(\"Stdev M1: \", stdev_M1)\n",
        "print(\"Mean M2: \", mean_M2)\n",
        "print(\"Median M2: \", median_M2)\n",
        "print(\"Stdev M2: \", stdev_M2)"
      ],
      "metadata": {
        "colab": {
          "base_uri": "https://localhost:8080/"
        },
        "id": "EgrEMEEMHeVd",
        "outputId": "ddd25067-1d9b-4890-f944-95e1812eb503"
      },
      "execution_count": null,
      "outputs": [
        {
          "output_type": "stream",
          "name": "stdout",
          "text": [
            "Mean M1:  Scenario\n",
            "C    0.327500\n",
            "M    0.351316\n",
            "N   -0.037500\n",
            "S    0.360976\n",
            "Name: IntervM1, dtype: float64\n",
            "Median M1:  Scenario\n",
            "C    0.325\n",
            "M    0.650\n",
            "N   -0.650\n",
            "S    0.650\n",
            "Name: IntervM1, dtype: float64\n",
            "Stdev M1:  Scenario\n",
            "C    0.974742\n",
            "M    0.974783\n",
            "N    1.110903\n",
            "S    1.028440\n",
            "Name: IntervM1, dtype: float64\n",
            "Mean M2:  Scenario\n",
            "C    1.515000\n",
            "M    2.063158\n",
            "N    1.446154\n",
            "S    1.409756\n",
            "Name: IntervM2, dtype: float64\n",
            "Median M2:  Scenario\n",
            "C    1.0\n",
            "M    2.8\n",
            "N    1.0\n",
            "S    1.0\n",
            "Name: IntervM2, dtype: float64\n",
            "Stdev M2:  Scenario\n",
            "C    1.432865\n",
            "M    1.888288\n",
            "N    1.475879\n",
            "S    1.329625\n",
            "Name: IntervM2, dtype: float64\n"
          ]
        }
      ]
    },
    {
      "cell_type": "markdown",
      "source": [
        "## Scatter plot"
      ],
      "metadata": {
        "id": "Wtf7lK6wePFm"
      }
    },
    {
      "cell_type": "markdown",
      "source": [
        "### Intervention Scatter Plot by Group"
      ],
      "metadata": {
        "id": "vQWeZ-lqeWZC"
      }
    },
    {
      "cell_type": "code",
      "source": [
        "fig, (ax1, ax2, ax3) = plt.subplots(1, 3, figsize=(25, 7))\n",
        "\n",
        "ax1 = scatter_plot(ax1, data, \"Group\", \"A\", GROUP_COLORS, \"IntervM1\", \"IntervM2\")\n",
        "ax2 = scatter_plot(ax2, data, \"Group\", \"B\", GROUP_COLORS, \"IntervM1\", \"IntervM2\")\n",
        "ax3 = scatter_plot(ax3, data, \"Group\", \"C\", GROUP_COLORS, \"IntervM1\", \"IntervM2\")\n",
        "\n",
        "ax2.set_xlabel(\"Intervention Metric 1\")\n",
        "ax1.set_ylabel(\"Intervention Metric 2\")\n",
        "\n",
        "fig.suptitle(\"Intervention Scatter Plot by Group\",fontsize=16)\n",
        "plt.show()"
      ],
      "metadata": {
        "colab": {
          "base_uri": "https://localhost:8080/",
          "height": 434
        },
        "id": "Hi4Vldz5zXEy",
        "outputId": "64e3d987-de72-4637-f186-7dac24d0550e"
      },
      "execution_count": null,
      "outputs": [
        {
          "output_type": "display_data",
          "data": {
            "text/plain": [
              "<Figure size 2500x700 with 3 Axes>"
            ],
            "image/png": "[encoded data removed]"
          },
          "metadata": {}
        }
      ]
    },
    {
      "cell_type": "markdown",
      "source": [
        "# Perception Metric"
      ],
      "metadata": {
        "id": "cnXPA4E7-Pya"
      }
    },
    {
      "cell_type": "markdown",
      "source": [
        "## Histograms"
      ],
      "metadata": {
        "id": "dCce_g_D_rhA"
      }
    },
    {
      "cell_type": "markdown",
      "source": [
        "### Perception Histogram"
      ],
      "metadata": {
        "id": "r8KxU5PHAN7K"
      }
    },
    {
      "cell_type": "code",
      "source": [
        "max_ylim = data.groupby([\"PercM\"])[\"SID\"].count().max() + 5\n",
        "\n",
        "fig, ax = plt.subplots(figsize=(8, 4))\n",
        "\n",
        "ax = produce_histogram(ax, data, None, None, \"PercM\", MIN_PERC, MAX_PERC, GROUP_COLORS)\n",
        "ax.set_ylim([0,15])\n",
        "\n",
        "plt.title(\"Perception Histogram\")\n",
        "plt.show()"
      ],
      "metadata": {
        "colab": {
          "base_uri": "https://localhost:8080/",
          "height": 391
        },
        "id": "FHlI3stN_t0M",
        "outputId": "64d4901b-57ea-488a-eb82-be6ff9073b7c"
      },
      "execution_count": null,
      "outputs": [
        {
          "output_type": "display_data",
          "data": {
            "text/plain": [
              "<Figure size 800x400 with 1 Axes>"
            ],
            "image/png": "[encoded data removed]"
          },
          "metadata": {}
        }
      ]
    },
    {
      "cell_type": "markdown",
      "source": [
        "## Boxplots"
      ],
      "metadata": {
        "id": "NgAWlriUp89E"
      }
    },
    {
      "cell_type": "markdown",
      "source": [
        "### Perception Boxplot by Group\n"
      ],
      "metadata": {
        "id": "yHU89RTstTVk"
      }
    },
    {
      "cell_type": "code",
      "source": [
        "fig, ax = plt.subplots(figsize=(5, 5))\n",
        "\n",
        "sns.set_palette(palette=GROUP_COLORS.values())\n",
        "\n",
        "sns.boxplot(x='Group', y='PercM', data=data, ax=ax)\n",
        "ax.set_title(\"Perception Boxplot by Group\")\n",
        "ax.set_ylabel(\"\")\n",
        "\n",
        "plt.show()"
      ],
      "metadata": {
        "colab": {
          "base_uri": "https://localhost:8080/",
          "height": 487
        },
        "id": "AlkcF2RTsxx0",
        "outputId": "6da4ec03-2238-4bc8-b441-8babbd3ce2fb"
      },
      "execution_count": null,
      "outputs": [
        {
          "output_type": "display_data",
          "data": {
            "text/plain": [
              "<Figure size 500x500 with 1 Axes>"
            ],
            "image/png": "[encoded data removed]"
          },
          "metadata": {}
        }
      ]
    },
    {
      "cell_type": "markdown",
      "source": [
        "### Perception Boxplot by Scenario"
      ],
      "metadata": {
        "id": "SA8SXgm7td5u"
      }
    },
    {
      "cell_type": "code",
      "source": [
        "fig, ax = plt.subplots(figsize=(5, 5))\n",
        "\n",
        "sns.set_palette(palette=SCENARIO_COLORS.values())\n",
        "\n",
        "sns.boxplot(x='Scenario', y='PercM', data=data, ax=ax)\n",
        "ax.set_title(\"Perception Boxplot by Scenario\")\n",
        "ax.set_ylabel(\"\")\n",
        "\n",
        "plt.show()"
      ],
      "metadata": {
        "colab": {
          "base_uri": "https://localhost:8080/",
          "height": 487
        },
        "outputId": "d70fec7e-1d31-48f1-e722-35eb2b81c54b",
        "id": "NdUrlL5wtd5w"
      },
      "execution_count": null,
      "outputs": [
        {
          "output_type": "display_data",
          "data": {
            "text/plain": [
              "<Figure size 500x500 with 1 Axes>"
            ],
            "image/png": "[encoded data removed]"
          },
          "metadata": {}
        }
      ]
    },
    {
      "cell_type": "markdown",
      "source": [
        "# Statistical Test"
      ],
      "metadata": {
        "id": "CuWHNZp-bWsF"
      }
    },
    {
      "cell_type": "markdown",
      "source": [
        "# Analyze zero vs non-zero with Chi-square and Wilcoxon\n",
        "\n",
        "In case your metrics determine an excess of zeros we need to split the analysis in two test:\n",
        "\n",
        "\n",
        "1.   A test to determine an effect by a binary distinction: zero - non zero\n",
        "2.   A test to determine an effect on the non-zero part of data. Ignoring in the analysis the zeros\n",
        "\n"
      ],
      "metadata": {
        "id": "l4O56g8DtX83"
      }
    },
    {
      "cell_type": "code",
      "source": [
        "#define threshold for zero/non-zero or keep zero as the threshold\n",
        "threshold_intervm1 = 0 #here your choice, it can also be zero\n",
        "threshold_intervm2 = 2.6 #here your choice, it can also be zero\n",
        "\n",
        "#all below threshold and equal is zero, else is non-zero\n",
        "data_zero_non_zero = data.copy()\n",
        "data_zero_non_zero.loc[data_zero_non_zero['IntervM1']<=threshold_intervm1,'IntervM1']=0\n",
        "data_zero_non_zero.loc[data_zero_non_zero['IntervM1']>threshold_intervm1,'IntervM1']=1\n",
        "\n",
        "data_zero_non_zero.loc[data_zero_non_zero['IntervM2']<=threshold_intervm2,'IntervM2']=0\n",
        "data_zero_non_zero.loc[data_zero_non_zero['IntervM2']>threshold_intervm2,'IntervM2']=1\n",
        "\n",
        "#chi-square test zero-non zero\n",
        "contingency_table = pd.crosstab(data_zero_non_zero.Group, data_zero_non_zero.IntervM1)\n",
        "print(contingency_table)\n",
        "chi2, p, dof, ex = stats.chi2_contingency(contingency_table)\n",
        "print(f'Group x IntervM1 Chi_square value {chi2} p value {p} degrees of freedom {dof}')\n",
        "\n",
        "contingency_table = pd.crosstab(data_zero_non_zero.Group, data_zero_non_zero.IntervM2)\n",
        "print(contingency_table)\n",
        "chi2, p, dof, ex = stats.chi2_contingency(contingency_table)\n",
        "print(f'Group x IntervM2 Chi_square value {chi2} p value {p} degrees of freedom {dof}')\n",
        "\n",
        "contingency_table = pd.crosstab(data_zero_non_zero.Scenario, data_zero_non_zero.IntervM1)\n",
        "print(contingency_table)\n",
        "contingency_table = pd.crosstab(data_zero_non_zero.Scenario, data_zero_non_zero.IntervM2)\n",
        "print(contingency_table)"
      ],
      "metadata": {
        "colab": {
          "base_uri": "https://localhost:8080/"
        },
        "id": "y-Yr8Uectagw",
        "outputId": "404d2eea-b844-48ca-9373-9367a3d51791"
      },
      "execution_count": null,
      "outputs": [
        {
          "output_type": "stream",
          "name": "stdout",
          "text": [
            "IntervM1   0.0  1.0\n",
            "Group              \n",
            "Checkov     33   24\n",
            "KICS        25   32\n",
            "Kubescape   31   26\n",
            "Group x IntervM1 Chi_square value 2.436832008769526 p value 0.2956981807820014 degrees of freedom 2\n",
            "IntervM2   0.0  1.0\n",
            "Group              \n",
            "Checkov     40   17\n",
            "KICS        37   20\n",
            "Kubescape   29   28\n",
            "Group x IntervM2 Chi_square value 4.8148040638606675 p value 0.09004893520375232 degrees of freedom 2\n",
            "IntervM1  0.0  1.0\n",
            "Scenario          \n",
            "C          20   20\n",
            "M          18   20\n",
            "N          31   21\n",
            "S          20   21\n",
            "IntervM2  0.0  1.0\n",
            "Scenario          \n",
            "C          26   14\n",
            "M          17   21\n",
            "N          36   16\n",
            "S          27   14\n"
          ]
        }
      ]
    },
    {
      "cell_type": "markdown",
      "source": [
        "Inspect only non-zero values using Wilcoxon"
      ],
      "metadata": {
        "id": "tnEo25CmwSH6"
      }
    },
    {
      "cell_type": "code",
      "source": [
        "#ignore zero values\n",
        "\n",
        "data_nonzero_intervm1 = data[data['IntervM1']>threshold_intervm1]\n",
        "data_nonzero_intervm2 = data[data['IntervM2']>threshold_intervm2]\n",
        "\n",
        "from itertools import combinations\n",
        "\n",
        "#groups do not change\n",
        "group_pairs = list(combinations(data[\"Group\"].unique(), 2))\n",
        "\n",
        "my_groups = data_nonzero_intervm1[\"Group\"].unique()\n",
        "\n",
        "#A vs B\n",
        "stat, p = stats.ranksums(x=data_nonzero_intervm1[data_nonzero_intervm1.Group == my_groups[0]]['IntervM1'], y=data_nonzero_intervm1[data_nonzero_intervm1.Group == my_groups[1]]['IntervM1'], alternative = 'two-sided')\n",
        "print(\"{} Group {} x Group {} stat = {}, p-value = {}\".format('IntervM1', my_groups[0], my_groups[1],stat, p))\n",
        "#A vs C\n",
        "stat, p = stats.ranksums(x=data_nonzero_intervm1[data_nonzero_intervm1.Group == my_groups[0]]['IntervM1'], y=data_nonzero_intervm1[data_nonzero_intervm1.Group == my_groups[2]]['IntervM1'], alternative = 'two-sided')\n",
        "print(\"{} Group {} x Group {} stat = {}, p-value = {}\".format('IntervM1', my_groups[0], my_groups[2],stat, p))\n",
        "\n",
        "#same for intervM2\n",
        "my_groups = data_nonzero_intervm2[\"Group\"].unique()\n",
        "\n",
        "stat, p = stats.ranksums(x=data_nonzero_intervm2[data_nonzero_intervm2.Group == my_groups[0]]['IntervM2'], y=data_nonzero_intervm2[data_nonzero_intervm2.Group == my_groups[1]]['IntervM2'], alternative = 'two-sided')\n",
        "print(\"{} Group {} x Group {} stat = {}, p-value = {}\".format('IntervM2', my_groups[0], my_groups[1],stat, p))\n",
        "\n",
        "stat, p = stats.ranksums(x=data_nonzero_intervm2[data_nonzero_intervm2.Group == my_groups[0]]['IntervM2'], y=data_nonzero_intervm2[data_nonzero_intervm2.Group == my_groups[2]]['IntervM2'], alternative = 'two-sided')\n",
        "print(\"{} Group {} x Group {} stat = {}, p-value = {}\".format('IntervM2', my_groups[0], my_groups[2],stat, p))\n"
      ],
      "metadata": {
        "colab": {
          "base_uri": "https://localhost:8080/"
        },
        "id": "3fpL2VBmwX5p",
        "outputId": "9c684213-6697-4206-e93d-5f3ee75d3817"
      },
      "execution_count": null,
      "outputs": [
        {
          "output_type": "stream",
          "name": "stdout",
          "text": [
            "IntervM1 Group Kubescape x Group Checkov stat = 0.048545977336288584, p-value = 0.9612811229977414\n",
            "IntervM1 Group Kubescape x Group KICS stat = -0.00781759123547031, p-value = 0.9937625281841856\n",
            "IntervM2 Group Checkov x Group Kubescape stat = 0.43309179819425675, p-value = 0.6649480810337709\n",
            "IntervM2 Group Checkov x Group KICS stat = 0.33523708167324295, p-value = 0.7374462516595328\n"
          ]
        }
      ]
    },
    {
      "cell_type": "markdown",
      "source": [
        "## If data is ordinal, perform Wilcoxon Ranksum Tests\n",
        "\n",
        "In case we do not have an excess of zeros we can directly apply Wilcoxon if ordinal"
      ],
      "metadata": {
        "id": "AGQPiT1-bi4M"
      }
    },
    {
      "cell_type": "code",
      "source": [
        "from itertools import combinations\n",
        "\n",
        "my_groups = data[\"Group\"].unique()\n",
        "\n",
        "#A vs B\n",
        "stat, p = stats.ranksums(x=data[data.Group == my_groups[0]]['IntervM1'], y=data[data.Group == my_groups[1]]['IntervM1'], alternative = 'two-sided')\n",
        "print(\"{} Group {} x Group {} stat = {}, p-value = {}\".format('IntervM1', my_groups[0], my_groups[1],stat, p))\n",
        "#A vs C\n",
        "stat, p = stats.ranksums(x=data[data.Group == my_groups[0]]['IntervM1'], y=data[data.Group == my_groups[2]]['IntervM1'], alternative = 'two-sided')\n",
        "print(\"{} Group {} x Group {} stat = {}, p-value = {}\".format('IntervM1', my_groups[0], my_groups[2],stat, p))\n",
        "\n",
        "#same for intervM2\n",
        "stat, p = stats.ranksums(x=data[data.Group == my_groups[0]]['IntervM2'], y=data[data.Group == my_groups[1]]['IntervM2'], alternative = 'two-sided')\n",
        "print(\"{} Group {} x Group {} stat = {}, p-value = {}\".format('IntervM2', my_groups[0], my_groups[1],stat, p))\n",
        "\n",
        "stat, p = stats.ranksums(x=data[data.Group == my_groups[0]]['IntervM2'], y=data[data.Group == my_groups[2]]['IntervM2'], alternative = 'two-sided')\n",
        "print(\"{} Group {} x Group {} stat = {}, p-value = {}\".format('IntervM2', my_groups[0], my_groups[2],stat, p))"
      ],
      "metadata": {
        "colab": {
          "base_uri": "https://localhost:8080/"
        },
        "id": "kbw5TOHjcl9b",
        "outputId": "73977412-a545-4de2-f6ce-31227c31aeda"
      },
      "execution_count": null,
      "outputs": [
        {
          "output_type": "stream",
          "name": "stdout",
          "text": [
            "IntervM1 Group Checkov x Group Kubescape stat = 0.03967024541481219, p-value = 0.9683560237150757\n",
            "IntervM1 Group Checkov x Group KICS stat = -1.0115912580777109, p-value = 0.3117335274307751\n",
            "IntervM2 Group Checkov x Group Kubescape stat = -1.1306019943221475, p-value = 0.258222647741568\n",
            "IntervM2 Group Checkov x Group KICS stat = -1.4819670251390555, p-value = 0.13834906917254605\n"
          ]
        }
      ]
    },
    {
      "cell_type": "code",
      "source": [
        "from itertools import combinations\n",
        "\n",
        "scenario_pairs = list(combinations(data[\"Scenario\"].unique(), 2))\n",
        "\n",
        "for pair in scenario_pairs:\n",
        "  stat, p = stats.ranksums(x=data[data.Scenario == pair[0]]['IntervM1'], y=data[data.Scenario == pair[1]]['IntervM1'], alternative = 'two-sided')\n",
        "  print(\"{} Scenario {} x Scenario {} stat = {}, p-value = {}\".format('IntervM1', pair[0], pair[1],stat, p))\n",
        "\n",
        "# droping all the rows containing Nan in the metric 2, otherwise we cannot compute the p-value between the scenarios\n",
        "tmp = data.drop(columns=[\"PercM\"])\n",
        "data2 = tmp.dropna()\n",
        "for pair in scenario_pairs:\n",
        "  stat, p = stats.ranksums(x=data2[data2.Scenario == pair[0]]['IntervM2'], y=data2[data2.Scenario == pair[1]]['IntervM2'], alternative = 'two-sided')\n",
        "  print(\"{} Scenario {} x Scenario {} stat = {}, p-value = {}\".format('IntervM2', pair[0], pair[1],stat, p))"
      ],
      "metadata": {
        "colab": {
          "base_uri": "https://localhost:8080/"
        },
        "id": "6quqXF4GGhhU",
        "outputId": "7353c9ae-2e81-4dcc-e0a8-b8e3538e0134"
      },
      "execution_count": null,
      "outputs": [
        {
          "output_type": "stream",
          "name": "stdout",
          "text": [
            "IntervM1 Scenario C x Scenario M stat = -0.11496168582269141, p-value = 0.9084754909226396\n",
            "IntervM1 Scenario C x Scenario N stat = 1.9651152738967335, p-value = 0.049400897186723955\n",
            "IntervM1 Scenario C x Scenario S stat = -0.0141694512666125, p-value = 0.9886947918980028\n",
            "IntervM1 Scenario M x Scenario N stat = 2.0055244140793342, p-value = 0.04490701340764886\n",
            "IntervM1 Scenario M x Scenario S stat = 0.0834028379380656, p-value = 0.933531232027727\n",
            "IntervM1 Scenario N x Scenario S stat = -1.8648767676895748, p-value = 0.06219867958819506\n",
            "IntervM2 Scenario C x Scenario M stat = -1.1946018657227497, p-value = 0.23224261996067808\n",
            "IntervM2 Scenario C x Scenario N stat = 0.4646965978352997, p-value = 0.6421487450751022\n",
            "IntervM2 Scenario C x Scenario S stat = 0.3400668303987, p-value = 0.7338062002424635\n",
            "IntervM2 Scenario M x Scenario N stat = 1.7931267164578977, p-value = 0.07295266459868426\n",
            "IntervM2 Scenario M x Scenario S stat = 1.5993720686946697, p-value = 0.10973795471974525\n",
            "IntervM2 Scenario N x Scenario S stat = -0.21279714154134152, p-value = 0.8314851934043619\n"
          ]
        }
      ]
    },
    {
      "cell_type": "markdown",
      "source": [
        "## If data is binary, perform Chi-Square Test.\n",
        "\n",
        "In case we do not have an excess of zeros we can directly apply Chi-Square if binary"
      ],
      "metadata": {
        "id": "ueVPqODSdEPQ"
      }
    },
    {
      "cell_type": "code",
      "source": [
        "contingency_table = pd.crosstab(data.Group, data.IntervM1)\n",
        "chi2, p, dof, ex = stats.chi2_contingency(contingency_table)\n",
        "print(f'Group x IntervM1 Chi_square value {chi2} p value {p} degrees of freedom {dof}')\n",
        "\n",
        "contingency_table = pd.crosstab(data.Group, data.IntervM2)\n",
        "chi2, p, dof, ex = stats.chi2_contingency(contingency_table)\n",
        "print(f'Group x IntervM2 Chi_square value {chi2} p value {p} degrees of freedom {dof}')\n",
        "\n",
        "contingency_table = pd.crosstab(data.Scenario, data.IntervM1)\n",
        "chi2, p, dof, ex = stats.chi2_contingency(contingency_table)\n",
        "print(f'Scenario x IntervM1 Chi_square value {chi2} p value {p} degrees of freedom {dof}')\n",
        "\n",
        "contingency_table = pd.crosstab(data.Scenario, data.IntervM2)\n",
        "chi2, p, dof, ex = stats.chi2_contingency(contingency_table)\n",
        "print(f'Scenario x IntervM2 Chi_square value {chi2} p value {p} degrees of freedom {dof}')"
      ],
      "metadata": {
        "colab": {
          "base_uri": "https://localhost:8080/"
        },
        "id": "8zkHllEMd3aa",
        "outputId": "8ac661f3-87a7-463d-d7dc-4e616114ce61"
      },
      "execution_count": null,
      "outputs": [
        {
          "output_type": "stream",
          "name": "stdout",
          "text": [
            "Group x IntervM1 Chi_square value 21.342352843691977 p value 0.2624940509456583 degrees of freedom 18\n",
            "Group x IntervM2 Chi_square value 45.58561967706285 p value 0.2509896479376437 degrees of freedom 40\n",
            "Scenario x IntervM1 Chi_square value 84.40236763114956 p value 0.0003394351148476823 degrees of freedom 45\n",
            "Scenario x IntervM2 Chi_square value 341.98274771000786 p value 3.2829922298054875e-28 degrees of freedom 100\n"
          ]
        }
      ]
    },
    {
      "cell_type": "markdown",
      "source": [
        "# [OPTIONAL] Additional analysis\n",
        "This is free for students to add additional analysis and plots"
      ],
      "metadata": {
        "id": "R9mVmRI0VJWq"
      }
    },
    {
      "cell_type": "code",
      "source": [],
      "metadata": {
        "id": "RypylXoNVIh8"
      },
      "execution_count": null,
      "outputs": []
    }
  ]
}